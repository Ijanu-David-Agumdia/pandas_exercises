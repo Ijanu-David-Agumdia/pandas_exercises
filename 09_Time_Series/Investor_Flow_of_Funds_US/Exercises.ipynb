{
 "cells": [
  {
   "cell_type": "markdown",
   "metadata": {},
   "source": [
    "# Investor - Flow of Funds - US"
   ]
  },
  {
   "cell_type": "markdown",
   "metadata": {},
   "source": [
    "### Introduction:\n",
    "\n",
    "Special thanks to: https://github.com/rgrp for sharing the dataset."
   ]
  },
  {
   "cell_type": "markdown",
   "metadata": {},
   "source": [
    "### Import the dataset from this [address](https://raw.githubusercontent.com/datasets/investor-flow-of-funds-us/master/data/weekly.csv). "
   ]
  },
  {
   "cell_type": "markdown",
   "metadata": {},
   "source": [
    "### Assign it to a variable called "
   ]
  },
  {
   "cell_type": "code",
   "execution_count": 1,
   "metadata": {
    "collapsed": false,
    "jupyter": {
     "outputs_hidden": false
    }
   },
   "outputs": [
    {
     "data": {
      "text/html": [
       "<div>\n",
       "<style scoped>\n",
       "    .dataframe tbody tr th:only-of-type {\n",
       "        vertical-align: middle;\n",
       "    }\n",
       "\n",
       "    .dataframe tbody tr th {\n",
       "        vertical-align: top;\n",
       "    }\n",
       "\n",
       "    .dataframe thead th {\n",
       "        text-align: right;\n",
       "    }\n",
       "</style>\n",
       "<table border=\"1\" class=\"dataframe\">\n",
       "  <thead>\n",
       "    <tr style=\"text-align: right;\">\n",
       "      <th></th>\n",
       "      <th>Date</th>\n",
       "      <th>Total Equity</th>\n",
       "      <th>Domestic Equity</th>\n",
       "      <th>World Equity</th>\n",
       "      <th>Hybrid</th>\n",
       "      <th>Total Bond</th>\n",
       "      <th>Taxable Bond</th>\n",
       "      <th>Municipal Bond</th>\n",
       "      <th>Total</th>\n",
       "    </tr>\n",
       "  </thead>\n",
       "  <tbody>\n",
       "    <tr>\n",
       "      <th>0</th>\n",
       "      <td>2012-12-05</td>\n",
       "      <td>-7426</td>\n",
       "      <td>-6060</td>\n",
       "      <td>-1367</td>\n",
       "      <td>-74</td>\n",
       "      <td>5317</td>\n",
       "      <td>4210</td>\n",
       "      <td>1107</td>\n",
       "      <td>-2183</td>\n",
       "    </tr>\n",
       "    <tr>\n",
       "      <th>1</th>\n",
       "      <td>2012-12-12</td>\n",
       "      <td>-8783</td>\n",
       "      <td>-7520</td>\n",
       "      <td>-1263</td>\n",
       "      <td>123</td>\n",
       "      <td>1818</td>\n",
       "      <td>1598</td>\n",
       "      <td>219</td>\n",
       "      <td>-6842</td>\n",
       "    </tr>\n",
       "    <tr>\n",
       "      <th>2</th>\n",
       "      <td>2012-12-19</td>\n",
       "      <td>-5496</td>\n",
       "      <td>-5470</td>\n",
       "      <td>-26</td>\n",
       "      <td>-73</td>\n",
       "      <td>103</td>\n",
       "      <td>3472</td>\n",
       "      <td>-3369</td>\n",
       "      <td>-5466</td>\n",
       "    </tr>\n",
       "    <tr>\n",
       "      <th>3</th>\n",
       "      <td>2012-12-26</td>\n",
       "      <td>-4451</td>\n",
       "      <td>-4076</td>\n",
       "      <td>-375</td>\n",
       "      <td>550</td>\n",
       "      <td>2610</td>\n",
       "      <td>3333</td>\n",
       "      <td>-722</td>\n",
       "      <td>-1291</td>\n",
       "    </tr>\n",
       "    <tr>\n",
       "      <th>4</th>\n",
       "      <td>2013-01-02</td>\n",
       "      <td>-11156</td>\n",
       "      <td>-9622</td>\n",
       "      <td>-1533</td>\n",
       "      <td>-158</td>\n",
       "      <td>2383</td>\n",
       "      <td>2103</td>\n",
       "      <td>280</td>\n",
       "      <td>-8931</td>\n",
       "    </tr>\n",
       "  </tbody>\n",
       "</table>\n",
       "</div>"
      ],
      "text/plain": [
       "         Date  Total Equity  Domestic Equity  World Equity  Hybrid  \\\n",
       "0  2012-12-05         -7426            -6060         -1367     -74   \n",
       "1  2012-12-12         -8783            -7520         -1263     123   \n",
       "2  2012-12-19         -5496            -5470           -26     -73   \n",
       "3  2012-12-26         -4451            -4076          -375     550   \n",
       "4  2013-01-02        -11156            -9622         -1533    -158   \n",
       "\n",
       "   Total Bond  Taxable Bond  Municipal Bond  Total  \n",
       "0        5317          4210            1107  -2183  \n",
       "1        1818          1598             219  -6842  \n",
       "2         103          3472           -3369  -5466  \n",
       "3        2610          3333            -722  -1291  \n",
       "4        2383          2103             280  -8931  "
      ]
     },
     "execution_count": 1,
     "metadata": {},
     "output_type": "execute_result"
    }
   ],
   "source": [
    "import pandas as pd\n",
    "df_invest = pd.read_csv('https://raw.githubusercontent.com/datasets/investor-flow-of-funds-us/master/data/weekly.csv')\n",
    "df_invest.head()"
   ]
  },
  {
   "cell_type": "markdown",
   "metadata": {},
   "source": [
    "###  What is the frequency of the dataset?"
   ]
  },
  {
   "cell_type": "code",
   "execution_count": 2,
   "metadata": {
    "collapsed": false,
    "jupyter": {
     "outputs_hidden": false
    }
   },
   "outputs": [],
   "source": [
    "# weekly data"
   ]
  },
  {
   "cell_type": "markdown",
   "metadata": {},
   "source": [
    "### Set the column Date as the index."
   ]
  },
  {
   "cell_type": "code",
   "execution_count": 3,
   "metadata": {
    "collapsed": false,
    "jupyter": {
     "outputs_hidden": false
    }
   },
   "outputs": [
    {
     "data": {
      "text/html": [
       "<div>\n",
       "<style scoped>\n",
       "    .dataframe tbody tr th:only-of-type {\n",
       "        vertical-align: middle;\n",
       "    }\n",
       "\n",
       "    .dataframe tbody tr th {\n",
       "        vertical-align: top;\n",
       "    }\n",
       "\n",
       "    .dataframe thead th {\n",
       "        text-align: right;\n",
       "    }\n",
       "</style>\n",
       "<table border=\"1\" class=\"dataframe\">\n",
       "  <thead>\n",
       "    <tr style=\"text-align: right;\">\n",
       "      <th></th>\n",
       "      <th>Total Equity</th>\n",
       "      <th>Domestic Equity</th>\n",
       "      <th>World Equity</th>\n",
       "      <th>Hybrid</th>\n",
       "      <th>Total Bond</th>\n",
       "      <th>Taxable Bond</th>\n",
       "      <th>Municipal Bond</th>\n",
       "      <th>Total</th>\n",
       "    </tr>\n",
       "    <tr>\n",
       "      <th>Date</th>\n",
       "      <th></th>\n",
       "      <th></th>\n",
       "      <th></th>\n",
       "      <th></th>\n",
       "      <th></th>\n",
       "      <th></th>\n",
       "      <th></th>\n",
       "      <th></th>\n",
       "    </tr>\n",
       "  </thead>\n",
       "  <tbody>\n",
       "    <tr>\n",
       "      <th>2012-12-05</th>\n",
       "      <td>-7426</td>\n",
       "      <td>-6060</td>\n",
       "      <td>-1367</td>\n",
       "      <td>-74</td>\n",
       "      <td>5317</td>\n",
       "      <td>4210</td>\n",
       "      <td>1107</td>\n",
       "      <td>-2183</td>\n",
       "    </tr>\n",
       "    <tr>\n",
       "      <th>2012-12-12</th>\n",
       "      <td>-8783</td>\n",
       "      <td>-7520</td>\n",
       "      <td>-1263</td>\n",
       "      <td>123</td>\n",
       "      <td>1818</td>\n",
       "      <td>1598</td>\n",
       "      <td>219</td>\n",
       "      <td>-6842</td>\n",
       "    </tr>\n",
       "    <tr>\n",
       "      <th>2012-12-19</th>\n",
       "      <td>-5496</td>\n",
       "      <td>-5470</td>\n",
       "      <td>-26</td>\n",
       "      <td>-73</td>\n",
       "      <td>103</td>\n",
       "      <td>3472</td>\n",
       "      <td>-3369</td>\n",
       "      <td>-5466</td>\n",
       "    </tr>\n",
       "    <tr>\n",
       "      <th>2012-12-26</th>\n",
       "      <td>-4451</td>\n",
       "      <td>-4076</td>\n",
       "      <td>-375</td>\n",
       "      <td>550</td>\n",
       "      <td>2610</td>\n",
       "      <td>3333</td>\n",
       "      <td>-722</td>\n",
       "      <td>-1291</td>\n",
       "    </tr>\n",
       "    <tr>\n",
       "      <th>2013-01-02</th>\n",
       "      <td>-11156</td>\n",
       "      <td>-9622</td>\n",
       "      <td>-1533</td>\n",
       "      <td>-158</td>\n",
       "      <td>2383</td>\n",
       "      <td>2103</td>\n",
       "      <td>280</td>\n",
       "      <td>-8931</td>\n",
       "    </tr>\n",
       "  </tbody>\n",
       "</table>\n",
       "</div>"
      ],
      "text/plain": [
       "            Total Equity  Domestic Equity  World Equity  Hybrid  Total Bond  \\\n",
       "Date                                                                          \n",
       "2012-12-05         -7426            -6060         -1367     -74        5317   \n",
       "2012-12-12         -8783            -7520         -1263     123        1818   \n",
       "2012-12-19         -5496            -5470           -26     -73         103   \n",
       "2012-12-26         -4451            -4076          -375     550        2610   \n",
       "2013-01-02        -11156            -9622         -1533    -158        2383   \n",
       "\n",
       "            Taxable Bond  Municipal Bond  Total  \n",
       "Date                                             \n",
       "2012-12-05          4210            1107  -2183  \n",
       "2012-12-12          1598             219  -6842  \n",
       "2012-12-19          3472           -3369  -5466  \n",
       "2012-12-26          3333            -722  -1291  \n",
       "2013-01-02          2103             280  -8931  "
      ]
     },
     "execution_count": 3,
     "metadata": {},
     "output_type": "execute_result"
    }
   ],
   "source": [
    "df_invest.set_index('Date').head()"
   ]
  },
  {
   "cell_type": "markdown",
   "metadata": {},
   "source": [
    "### What is the type of the index?"
   ]
  },
  {
   "cell_type": "code",
   "execution_count": 4,
   "metadata": {
    "collapsed": false,
    "jupyter": {
     "outputs_hidden": false
    }
   },
   "outputs": [
    {
     "data": {
      "text/plain": [
       "dtype('O')"
      ]
     },
     "execution_count": 4,
     "metadata": {},
     "output_type": "execute_result"
    }
   ],
   "source": [
    "df_invest['Date'].dtype"
   ]
  },
  {
   "cell_type": "markdown",
   "metadata": {},
   "source": [
    "### Set the index to a DatetimeIndex type"
   ]
  },
  {
   "cell_type": "code",
   "execution_count": 5,
   "metadata": {
    "collapsed": false,
    "jupyter": {
     "outputs_hidden": false
    }
   },
   "outputs": [
    {
     "data": {
      "text/plain": [
       "pandas.core.indexes.datetimes.DatetimeIndex"
      ]
     },
     "execution_count": 5,
     "metadata": {},
     "output_type": "execute_result"
    }
   ],
   "source": [
    "df_invest.index = pd.to_datetime(df_invest.index)\n",
    "type(df_invest.index)"
   ]
  },
  {
   "cell_type": "markdown",
   "metadata": {},
   "source": [
    "###  Change the frequency to monthly, sum the values and assign it to monthly."
   ]
  },
  {
   "cell_type": "code",
   "execution_count": 8,
   "metadata": {
    "collapsed": false,
    "jupyter": {
     "outputs_hidden": false
    }
   },
   "outputs": [
    {
     "data": {
      "text/html": [
       "<div>\n",
       "<style scoped>\n",
       "    .dataframe tbody tr th:only-of-type {\n",
       "        vertical-align: middle;\n",
       "    }\n",
       "\n",
       "    .dataframe tbody tr th {\n",
       "        vertical-align: top;\n",
       "    }\n",
       "\n",
       "    .dataframe thead th {\n",
       "        text-align: right;\n",
       "    }\n",
       "</style>\n",
       "<table border=\"1\" class=\"dataframe\">\n",
       "  <thead>\n",
       "    <tr style=\"text-align: right;\">\n",
       "      <th></th>\n",
       "      <th>Total Equity</th>\n",
       "      <th>Domestic Equity</th>\n",
       "      <th>World Equity</th>\n",
       "      <th>Hybrid</th>\n",
       "      <th>Total Bond</th>\n",
       "      <th>Taxable Bond</th>\n",
       "      <th>Municipal Bond</th>\n",
       "      <th>Total</th>\n",
       "    </tr>\n",
       "  </thead>\n",
       "  <tbody>\n",
       "    <tr>\n",
       "      <th>1970-01-31</th>\n",
       "      <td>-7116</td>\n",
       "      <td>-79901</td>\n",
       "      <td>72786</td>\n",
       "      <td>30106</td>\n",
       "      <td>107915</td>\n",
       "      <td>85007</td>\n",
       "      <td>22907</td>\n",
       "      <td>130902</td>\n",
       "    </tr>\n",
       "  </tbody>\n",
       "</table>\n",
       "</div>"
      ],
      "text/plain": [
       "            Total Equity  Domestic Equity  World Equity  Hybrid  Total Bond  \\\n",
       "1970-01-31         -7116           -79901         72786   30106      107915   \n",
       "\n",
       "            Taxable Bond  Municipal Bond   Total  \n",
       "1970-01-31         85007           22907  130902  "
      ]
     },
     "execution_count": 8,
     "metadata": {},
     "output_type": "execute_result"
    }
   ],
   "source": [
    "monthly = df_invest.resample('M').sum()\n",
    "monthly"
   ]
  },
  {
   "cell_type": "markdown",
   "metadata": {},
   "source": [
    "### You will notice that it filled the dataFrame with months that don't have any data with NaN. Let's drop these rows."
   ]
  },
  {
   "cell_type": "code",
   "execution_count": 9,
   "metadata": {
    "collapsed": false,
    "jupyter": {
     "outputs_hidden": false
    }
   },
   "outputs": [
    {
     "data": {
      "text/html": [
       "<div>\n",
       "<style scoped>\n",
       "    .dataframe tbody tr th:only-of-type {\n",
       "        vertical-align: middle;\n",
       "    }\n",
       "\n",
       "    .dataframe tbody tr th {\n",
       "        vertical-align: top;\n",
       "    }\n",
       "\n",
       "    .dataframe thead th {\n",
       "        text-align: right;\n",
       "    }\n",
       "</style>\n",
       "<table border=\"1\" class=\"dataframe\">\n",
       "  <thead>\n",
       "    <tr style=\"text-align: right;\">\n",
       "      <th></th>\n",
       "      <th>Total Equity</th>\n",
       "      <th>Domestic Equity</th>\n",
       "      <th>World Equity</th>\n",
       "      <th>Hybrid</th>\n",
       "      <th>Total Bond</th>\n",
       "      <th>Taxable Bond</th>\n",
       "      <th>Municipal Bond</th>\n",
       "      <th>Total</th>\n",
       "    </tr>\n",
       "  </thead>\n",
       "  <tbody>\n",
       "    <tr>\n",
       "      <th>1970-01-31</th>\n",
       "      <td>-7116</td>\n",
       "      <td>-79901</td>\n",
       "      <td>72786</td>\n",
       "      <td>30106</td>\n",
       "      <td>107915</td>\n",
       "      <td>85007</td>\n",
       "      <td>22907</td>\n",
       "      <td>130902</td>\n",
       "    </tr>\n",
       "  </tbody>\n",
       "</table>\n",
       "</div>"
      ],
      "text/plain": [
       "            Total Equity  Domestic Equity  World Equity  Hybrid  Total Bond  \\\n",
       "1970-01-31         -7116           -79901         72786   30106      107915   \n",
       "\n",
       "            Taxable Bond  Municipal Bond   Total  \n",
       "1970-01-31         85007           22907  130902  "
      ]
     },
     "execution_count": 9,
     "metadata": {},
     "output_type": "execute_result"
    }
   ],
   "source": [
    "monthly = monthly.dropna()\n",
    "monthly"
   ]
  },
  {
   "cell_type": "markdown",
   "metadata": {},
   "source": [
    "### Good, now we have the monthly data. Now change the frequency to year."
   ]
  },
  {
   "cell_type": "code",
   "execution_count": 10,
   "metadata": {
    "collapsed": false,
    "jupyter": {
     "outputs_hidden": false
    }
   },
   "outputs": [
    {
     "data": {
      "text/html": [
       "<div>\n",
       "<style scoped>\n",
       "    .dataframe tbody tr th:only-of-type {\n",
       "        vertical-align: middle;\n",
       "    }\n",
       "\n",
       "    .dataframe tbody tr th {\n",
       "        vertical-align: top;\n",
       "    }\n",
       "\n",
       "    .dataframe thead th {\n",
       "        text-align: right;\n",
       "    }\n",
       "</style>\n",
       "<table border=\"1\" class=\"dataframe\">\n",
       "  <thead>\n",
       "    <tr style=\"text-align: right;\">\n",
       "      <th></th>\n",
       "      <th>Total Equity</th>\n",
       "      <th>Domestic Equity</th>\n",
       "      <th>World Equity</th>\n",
       "      <th>Hybrid</th>\n",
       "      <th>Total Bond</th>\n",
       "      <th>Taxable Bond</th>\n",
       "      <th>Municipal Bond</th>\n",
       "      <th>Total</th>\n",
       "    </tr>\n",
       "  </thead>\n",
       "  <tbody>\n",
       "    <tr>\n",
       "      <th>1970-01-01</th>\n",
       "      <td>-7116</td>\n",
       "      <td>-79901</td>\n",
       "      <td>72786</td>\n",
       "      <td>30106</td>\n",
       "      <td>107915</td>\n",
       "      <td>85007</td>\n",
       "      <td>22907</td>\n",
       "      <td>130902</td>\n",
       "    </tr>\n",
       "  </tbody>\n",
       "</table>\n",
       "</div>"
      ],
      "text/plain": [
       "            Total Equity  Domestic Equity  World Equity  Hybrid  Total Bond  \\\n",
       "1970-01-01         -7116           -79901         72786   30106      107915   \n",
       "\n",
       "            Taxable Bond  Municipal Bond   Total  \n",
       "1970-01-01         85007           22907  130902  "
      ]
     },
     "execution_count": 10,
     "metadata": {},
     "output_type": "execute_result"
    }
   ],
   "source": [
    "year = monthly.resample('AS-JAN').sum()\n",
    "year"
   ]
  },
  {
   "cell_type": "markdown",
   "metadata": {},
   "source": [
    "### BONUS: Create your own question and answer it."
   ]
  },
  {
   "cell_type": "code",
   "execution_count": 12,
   "metadata": {
    "tags": []
   },
   "outputs": [
    {
     "data": {
      "text/html": [
       "<div>\n",
       "<style scoped>\n",
       "    .dataframe tbody tr th:only-of-type {\n",
       "        vertical-align: middle;\n",
       "    }\n",
       "\n",
       "    .dataframe tbody tr th {\n",
       "        vertical-align: top;\n",
       "    }\n",
       "\n",
       "    .dataframe thead th {\n",
       "        text-align: right;\n",
       "    }\n",
       "</style>\n",
       "<table border=\"1\" class=\"dataframe\">\n",
       "  <thead>\n",
       "    <tr style=\"text-align: right;\">\n",
       "      <th></th>\n",
       "      <th>Total Equity</th>\n",
       "      <th>Domestic Equity</th>\n",
       "      <th>World Equity</th>\n",
       "      <th>Hybrid</th>\n",
       "      <th>Total Bond</th>\n",
       "      <th>Taxable Bond</th>\n",
       "      <th>Municipal Bond</th>\n",
       "      <th>Total</th>\n",
       "    </tr>\n",
       "  </thead>\n",
       "  <tbody>\n",
       "    <tr>\n",
       "      <th>1969-12-01</th>\n",
       "      <td>-7116</td>\n",
       "      <td>-79901</td>\n",
       "      <td>72786</td>\n",
       "      <td>30106</td>\n",
       "      <td>107915</td>\n",
       "      <td>85007</td>\n",
       "      <td>22907</td>\n",
       "      <td>130902</td>\n",
       "    </tr>\n",
       "  </tbody>\n",
       "</table>\n",
       "</div>"
      ],
      "text/plain": [
       "            Total Equity  Domestic Equity  World Equity  Hybrid  Total Bond  \\\n",
       "1969-12-01         -7116           -79901         72786   30106      107915   \n",
       "\n",
       "            Taxable Bond  Municipal Bond   Total  \n",
       "1969-12-01         85007           22907  130902  "
      ]
     },
     "execution_count": 12,
     "metadata": {},
     "output_type": "execute_result"
    }
   ],
   "source": [
    "#we have the monthly data. Now change the month of December.\n",
    "year1 = monthly.resample('AS-DEC').sum()\n",
    "year1"
   ]
  }
 ],
 "metadata": {
  "kernelspec": {
   "display_name": "Python 3 (ipykernel)",
   "language": "python",
   "name": "python3"
  },
  "language_info": {
   "codemirror_mode": {
    "name": "ipython",
    "version": 3
   },
   "file_extension": ".py",
   "mimetype": "text/x-python",
   "name": "python",
   "nbconvert_exporter": "python",
   "pygments_lexer": "ipython3",
   "version": "3.9.12"
  }
 },
 "nbformat": 4,
 "nbformat_minor": 4
}
